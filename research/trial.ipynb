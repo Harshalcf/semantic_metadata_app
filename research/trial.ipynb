{
 "cells": [
  {
   "cell_type": "code",
   "execution_count": 1,
   "id": "166b61c1",
   "metadata": {},
   "outputs": [],
   "source": [
    "import os\n",
    "from dotenv import load_dotenv\n",
    "import requests\n",
    "from collections import Counter\n",
    "import re\n",
    "from PyPDF2 import PdfReader\n",
    "import docx2txt\n",
    "from pathlib import Path"
   ]
  },
  {
   "cell_type": "markdown",
   "id": "52d97d96",
   "metadata": {},
   "source": [
    "# Universal Secret Loader"
   ]
  },
  {
   "cell_type": "code",
   "execution_count": null,
   "id": "0e8fc89a",
   "metadata": {},
   "outputs": [],
   "source": [
    "\n",
    "def load_secret(key):\n",
    "    env_var = os.getenv(key)\n",
    "    if env_var:\n",
    "        return env_var\n",
    "    raise ValueError(f\"Key '{key}' not found in environment variables\")"
   ]
  },
  {
   "cell_type": "markdown",
   "id": "759af389",
   "metadata": {},
   "source": [
    "# Load all required API keys and URLs"
   ]
  },
  {
   "cell_type": "code",
   "execution_count": null,
   "id": "dd850db6",
   "metadata": {},
   "outputs": [],
   "source": [
    "\n",
    "OCR_API_URL = load_secret(\"OCR_API_URL\")\n",
    "OCR_API_KEY = load_secret(\"OCR_API_KEY\")\n",
    "NER_API_URL = load_secret(\"NER_API_URL\")\n",
    "NER_API_KEY = load_secret(\"NER_API_KEY\")\n",
    "SUMMARY_API_URL = load_secret(\"SUMMARY_API_URL\")\n",
    "SUMMARY_API_KEY = load_secret(\"SUMMARY_API_KEY\")\n",
    "CLASSIFY_API_URL = load_secret(\"CLASSIFY_API_URL\")\n",
    "CLASSIFY_API_KEY = load_secret(\"CLASSIFY_API_KEY\")"
   ]
  },
  {
   "cell_type": "markdown",
   "id": "e805aa92",
   "metadata": {},
   "source": [
    "# Set headers"
   ]
  },
  {
   "cell_type": "code",
   "execution_count": null,
   "id": "df50f765",
   "metadata": {},
   "outputs": [],
   "source": [
    "\n",
    "ner_headers = {\"Authorization\": f\"Bearer {NER_API_KEY}\"}\n",
    "sum_headers = {\"Authorization\": f\"Bearer {SUMMARY_API_KEY}\"}\n",
    "classify_headers = {\"Authorization\": f\"Bearer {CLASSIFY_API_KEY}\"}"
   ]
  },
  {
   "cell_type": "markdown",
   "id": "f1669a2e",
   "metadata": {},
   "source": [
    "# 2. OCR Function (Image to Text)"
   ]
  },
  {
   "cell_type": "code",
   "execution_count": null,
   "id": "a03d17e1",
   "metadata": {},
   "outputs": [],
   "source": [
    "\n",
    "def extract_text_from_image(path):\n",
    "    with open(path, 'rb') as f:\n",
    "        response = requests.post(\n",
    "            OCR_API_URL,\n",
    "            files={'filename': f},\n",
    "            data={'apikey': OCR_API_KEY, 'language': 'eng'}\n",
    "        )\n",
    "    try:\n",
    "        result = response.json()\n",
    "        return result['ParsedResults'][0]['ParsedText']\n",
    "    except Exception as e:\n",
    "        return f\"OCR Error: {str(e)}\""
   ]
  },
  {
   "cell_type": "markdown",
   "id": "9eabc41f",
   "metadata": {},
   "source": [
    "# 3. Text Extractor"
   ]
  },
  {
   "cell_type": "code",
   "execution_count": null,
   "id": "694d77af",
   "metadata": {},
   "outputs": [],
   "source": [
    "\n",
    "def extract_text(path):\n",
    "    file_ext = Path(path).suffix.lower()\n",
    "    if file_ext == '.pdf':\n",
    "        reader = PdfReader(path)\n",
    "        return \"\\n\".join([page.extract_text() for page in reader.pages if page.extract_text()])\n",
    "    elif file_ext == '.docx':\n",
    "        return docx2txt.process(path)\n",
    "    elif file_ext == '.txt':\n",
    "        with open(path, 'r', encoding='utf-8') as f:\n",
    "            return f.read()\n",
    "    elif file_ext in ['.jpg', '.jpeg', '.png']:\n",
    "        return extract_text_from_image(path)\n",
    "    return \"Unsupported file format.\""
   ]
  },
  {
   "cell_type": "markdown",
   "id": "ff538e57",
   "metadata": {},
   "source": [
    "# 4. NER API Integration"
   ]
  },
  {
   "cell_type": "code",
   "execution_count": null,
   "id": "c069545b",
   "metadata": {},
   "outputs": [],
   "source": [
    "\n",
    "def call_ner_api(text):\n",
    "    payload = {\"inputs\": text}\n",
    "    response = requests.post(NER_API_URL, headers=ner_headers, json=payload)\n",
    "    return response.json()"
   ]
  },
  {
   "cell_type": "markdown",
   "id": "8680748c",
   "metadata": {},
   "source": [
    "# 5. Summarizer API Integration"
   ]
  },
  {
   "cell_type": "code",
   "execution_count": null,
   "id": "74bfe92a",
   "metadata": {},
   "outputs": [],
   "source": [
    "\n",
    "def call_summarizer_api(text, min_len=40, max_len=150):\n",
    "    payload = {\n",
    "        \"inputs\": text,\n",
    "        \"parameters\": {\"min_length\": min_len, \"max_length\": max_len, \"do_sample\": False}\n",
    "    }\n",
    "    response = requests.post(SUMMARY_API_URL, headers=sum_headers, json=payload)\n",
    "    return response.json()"
   ]
  },
  {
   "cell_type": "markdown",
   "id": "e80a17b7",
   "metadata": {},
   "source": [
    "# 6. Classifier API Integration"
   ]
  },
  {
   "cell_type": "code",
   "execution_count": null,
   "id": "7cbc6ac8",
   "metadata": {},
   "outputs": [],
   "source": [
    "\n",
    "def query_zero_shot(text, labels):\n",
    "    payload = {\"inputs\": text, \"parameters\": {\"candidate_labels\": labels}}\n",
    "    response = requests.post(CLASSIFY_API_URL, headers=classify_headers, json=payload)\n",
    "    return response.json()"
   ]
  },
  {
   "cell_type": "markdown",
   "id": "e999ce3c",
   "metadata": {},
   "source": [
    "# 7. Metadata Generator Functions"
   ]
  },
  {
   "cell_type": "code",
   "execution_count": null,
   "id": "38a05d59",
   "metadata": {},
   "outputs": [],
   "source": [
    "def extract_title(text):\n",
    "    lines = text.strip().split(\"\\n\")\n",
    "    lines = [line.strip() for line in lines if line.strip()]\n",
    "    for line in lines:\n",
    "        if 5 < len(line) < 100 and line[0].isupper():\n",
    "            return line\n",
    "    return lines[0] if lines else \"Unknown Title\"\n",
    "\n",
    "def extract_author(text):\n",
    "    lines = text.strip().split('\\n')\n",
    "    for line in lines:\n",
    "        match = re.search(r\"\\b(By|Written by|Author:)\\s+([A-Z][a-z]+(?:\\s+[A-Z][a-z]+)+)\", line.strip())\n",
    "        if match:\n",
    "            return match.group(2)\n",
    "    results = call_ner_api(text)\n",
    "    try:\n",
    "        for ent in results[0]['entities']:\n",
    "            if ent.get(\"entity_group\", ent.get(\"entity\")) == \"PER\":\n",
    "                return ent.get(\"word\")\n",
    "    except:\n",
    "        pass\n",
    "    return \"Unknown Author\"\n",
    "\n",
    "def detect_category_from_chunks(text, candidate_labels=None, max_chunk_size=1000):\n",
    "    if candidate_labels is None:\n",
    "        candidate_labels = [\"Finance\", \"Health\", \"Education\", \"Politics\", \"Technology\", \"History\", \"Philosophy\", \"Biography\", \"Science\", \"Fiction\"]\n",
    "    chunks = [text[i:i+max_chunk_size] for i in range(0, len(text), max_chunk_size)]\n",
    "    scores = Counter()\n",
    "    for chunk in chunks:\n",
    "        result = query_zero_shot(chunk, candidate_labels)\n",
    "        if isinstance(result, dict) and \"labels\" in result and \"scores\" in result:\n",
    "            scores[result['labels'][0]] += result['scores'][0]\n",
    "    best_category = scores.most_common(1)[0][0] if scores else \"Unknown\"\n",
    "    return best_category, dict(scores)\n",
    "\n",
    "def generate_summary(text, min_len=40, max_len=150):\n",
    "    chunks = [text[i:i+3000] for i in range(0, len(text), 3000)]\n",
    "    final_summary = \"\"\n",
    "    for chunk in chunks:\n",
    "        response = call_summarizer_api(chunk, min_len, max_len)\n",
    "        try:\n",
    "            summary = response[0]['summary_text']\n",
    "            final_summary += summary.strip() + \" \"\n",
    "        except:\n",
    "            final_summary += \"[Summary Failed] \"\n",
    "    return final_summary.strip()\n",
    "\n",
    "def generate_metadata(text):\n",
    "    metadata = {\n",
    "        \"title\": extract_title(text),\n",
    "        \"author\": extract_author(text),\n",
    "        \"summary\": generate_summary(text),\n",
    "        \"category\": None,\n",
    "        \"category_scores\": {}\n",
    "    }\n",
    "    metadata[\"category\"], metadata[\"category_scores\"] = detect_category_from_chunks(text)\n",
    "    return metadata"
   ]
  },
  {
   "cell_type": "markdown",
   "id": "8771f72e",
   "metadata": {},
   "source": [
    "# Example Usage"
   ]
  },
  {
   "cell_type": "code",
   "execution_count": 12,
   "id": "eb8d75b1",
   "metadata": {},
   "outputs": [],
   "source": [
    "base_dir = 'data'"
   ]
  },
  {
   "cell_type": "code",
   "execution_count": 14,
   "id": "ddf7ae4e",
   "metadata": {},
   "outputs": [
    {
     "name": "stdout",
     "output_type": "stream",
     "text": [
      "c:\\Users\\Harshal Sharma\\Desktop\\meta-gen\n"
     ]
    }
   ],
   "source": [
    "cd .."
   ]
  },
  {
   "cell_type": "code",
   "execution_count": 16,
   "id": "c920c61f",
   "metadata": {},
   "outputs": [
    {
     "data": {
      "text/plain": [
       "['uploads']"
      ]
     },
     "execution_count": 16,
     "metadata": {},
     "output_type": "execute_result"
    }
   ],
   "source": [
    "files = os.listdir(base_dir)\n",
    "files"
   ]
  },
  {
   "cell_type": "code",
   "execution_count": 19,
   "id": "af4bc987",
   "metadata": {},
   "outputs": [
    {
     "data": {
      "text/plain": [
       "['.keep', '1750787978_Design_Fabrication_and_Flight_Demonstration_of_a_R.pdf']"
      ]
     },
     "execution_count": 19,
     "metadata": {},
     "output_type": "execute_result"
    }
   ],
   "source": [
    "file = os.listdir(os.path.join(base_dir, files[0]))\n",
    "file"
   ]
  },
  {
   "cell_type": "code",
   "execution_count": 24,
   "id": "589946e9",
   "metadata": {},
   "outputs": [],
   "source": [
    "example_path = os.path.join(os.path.join(base_dir, files[0]), file[1])"
   ]
  },
  {
   "cell_type": "code",
   "execution_count": 25,
   "id": "b2b6d9a9",
   "metadata": {},
   "outputs": [
    {
     "data": {
      "text/plain": [
       "'data\\\\uploads\\\\1750787978_Design_Fabrication_and_Flight_Demonstration_of_a_R.pdf'"
      ]
     },
     "execution_count": 25,
     "metadata": {},
     "output_type": "execute_result"
    }
   ],
   "source": [
    "example_path"
   ]
  },
  {
   "cell_type": "code",
   "execution_count": 26,
   "id": "30b8f44e",
   "metadata": {},
   "outputs": [],
   "source": [
    "text = extract_text(example_path)"
   ]
  },
  {
   "cell_type": "code",
   "execution_count": 27,
   "id": "6c836d66",
   "metadata": {},
   "outputs": [],
   "source": [
    "metadata = generate_metadata(text)"
   ]
  },
  {
   "cell_type": "code",
   "execution_count": 28,
   "id": "82a9d6c5",
   "metadata": {},
   "outputs": [
    {
     "data": {
      "text/plain": [
       "{'title': 'J. Aerosp. Technol. Manag., São José dos Campos, Vol.6, No 1, pp.19-27, Jan.-Mar., 2014',\n",
       " 'author': 'Unknown Author',\n",
       " 'summary': 'A remotely controlled airship was designed, Fabricated and demonstrated within a tight timespan of under a month after receiving the go-ahead. The main design requirement was to be able to operate from a Helipad located at an altitude of 6,572 feet AMSL under ISA+20 deg.C. Images of the terrain below were recorded during the flight and transmitted in real-time to a ground based system using an onboard telemetry system. Airships are aerodynamically shaped bodies filled with a “Lighter-Than-Air” (LTA) gas that displaces the ambient air, which results in a net upward force due to buoyancy. A remotely controlled (RC) airship is perhaps much more suitable than a remotely controlled aircraft for aerial surveillance due to its long endurance loiter and lower fuel consumption. The RC airship was designed to carry a camera that could take high resolution photographs of the terrain below and transmit them in-real time. It had to operate in very cold weather at a high altitude and the envelope material and fabrication process had to conform to such harsh environmental conditions. The envelope is the most crucial component of the airship and its design demands to optimally integrate the aspects of aerodynamics and stability. The stabilizer and rudder have been designed to have a cruciform shape on the envelope. The envelope material has to be appropriately chosen to ensure adequate strength, durability, as well as low weight. A detailed overview of the power plant system, design issues in engine sizing and selection, advances in engine technology, various concepts for thrust vectoring has been outlined by Gawale and Pant. The center of gravity (CG) of the airship should be exactly at the same location as that of the center of buoyancy (CB) A detailed mass breakup and CG analysis was carried out. The airship CG and CB were estimated to be located 3.79 and 3.64 m from the nose. The gondola was sized to accommodate the receiver, fuel tank, engine and payload. The CAD model of the airship along with the fins and a side view of airship are shown adjacently in Fig. 7. It was observed that an additional ballast weight had to be added  to the gondola in order to attain stability. The airship was successfully flown during three different  weather conditions, viz., dry day, mild rain and mild snowfall. The demonstration established the efficacy of remotely controlled airships for aerial photography and data collection by snow scientists. The author would like to thank Dr. R. N. Sarwade, the Director of Snow and Avalanches Study Establishment, DRDO, for inviting the team from LTA systems Lab of IIT Bombay to carry out the demonstration. PADD Project Report, Aerial Delivery R&D Establishment, Bangalore, India. Narayana C.L. and Srilatha, K.R., 2000, “Analysis of aerostat configurations by panel methods”, BLISS Project Document CF  \\xa0 \\xa0 \\xa0 \\xa0 \\xa0 \\xa0 \\xa0 \\xa00010, National Aerospace Laboratories, Bangalore.',\n",
       " 'category': 'Technology',\n",
       " 'category_scores': {'Technology': 4.9246299266815186,\n",
       "  'Health': 0.9445066750049591,\n",
       "  'Science': 0.6300508081912994}}"
      ]
     },
     "execution_count": 28,
     "metadata": {},
     "output_type": "execute_result"
    }
   ],
   "source": [
    "metadata"
   ]
  },
  {
   "cell_type": "code",
   "execution_count": 29,
   "id": "cb4e602b",
   "metadata": {},
   "outputs": [
    {
     "data": {
      "text/plain": [
       "'A remotely controlled airship was designed, Fabricated and demonstrated within a tight timespan of under a month after receiving the go-ahead. The main design requirement was to be able to operate from a Helipad located at an altitude of 6,572 feet AMSL under ISA+20 deg.C. Images of the terrain below were recorded during the flight and transmitted in real-time to a ground based system using an onboard telemetry system. Airships are aerodynamically shaped bodies filled with a “Lighter-Than-Air” (LTA) gas that displaces the ambient air, which results in a net upward force due to buoyancy. A remotely controlled (RC) airship is perhaps much more suitable than a remotely controlled aircraft for aerial surveillance due to its long endurance loiter and lower fuel consumption. The RC airship was designed to carry a camera that could take high resolution photographs of the terrain below and transmit them in-real time. It had to operate in very cold weather at a high altitude and the envelope material and fabrication process had to conform to such harsh environmental conditions. The envelope is the most crucial component of the airship and its design demands to optimally integrate the aspects of aerodynamics and stability. The stabilizer and rudder have been designed to have a cruciform shape on the envelope. The envelope material has to be appropriately chosen to ensure adequate strength, durability, as well as low weight. A detailed overview of the power plant system, design issues in engine sizing and selection, advances in engine technology, various concepts for thrust vectoring has been outlined by Gawale and Pant. The center of gravity (CG) of the airship should be exactly at the same location as that of the center of buoyancy (CB) A detailed mass breakup and CG analysis was carried out. The airship CG and CB were estimated to be located 3.79 and 3.64 m from the nose. The gondola was sized to accommodate the receiver, fuel tank, engine and payload. The CAD model of the airship along with the fins and a side view of airship are shown adjacently in Fig. 7. It was observed that an additional ballast weight had to be added  to the gondola in order to attain stability. The airship was successfully flown during three different  weather conditions, viz., dry day, mild rain and mild snowfall. The demonstration established the efficacy of remotely controlled airships for aerial photography and data collection by snow scientists. The author would like to thank Dr. R. N. Sarwade, the Director of Snow and Avalanches Study Establishment, DRDO, for inviting the team from LTA systems Lab of IIT Bombay to carry out the demonstration. PADD Project Report, Aerial Delivery R&D Establishment, Bangalore, India. Narayana C.L. and Srilatha, K.R., 2000, “Analysis of aerostat configurations by panel methods”, BLISS Project Document CF  \\xa0 \\xa0 \\xa0 \\xa0 \\xa0 \\xa0 \\xa0 \\xa00010, National Aerospace Laboratories, Bangalore.'"
      ]
     },
     "execution_count": 29,
     "metadata": {},
     "output_type": "execute_result"
    }
   ],
   "source": [
    "metadata['summary']"
   ]
  },
  {
   "cell_type": "code",
   "execution_count": null,
   "id": "0d851957",
   "metadata": {},
   "outputs": [],
   "source": []
  }
 ],
 "metadata": {
  "kernelspec": {
   "display_name": "meta-gen",
   "language": "python",
   "name": "python3"
  },
  "language_info": {
   "codemirror_mode": {
    "name": "ipython",
    "version": 3
   },
   "file_extension": ".py",
   "mimetype": "text/x-python",
   "name": "python",
   "nbconvert_exporter": "python",
   "pygments_lexer": "ipython3",
   "version": "3.10.18"
  }
 },
 "nbformat": 4,
 "nbformat_minor": 5
}
